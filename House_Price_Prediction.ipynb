{
 "cells": [
  {
   "cell_type": "markdown",
   "id": "4255321f-1b37-4a34-8327-1fcfa26f4e57",
   "metadata": {},
   "source": [
    "# DATA PREPROCESSING"
   ]
  },
  {
   "cell_type": "markdown",
   "id": "7b96ca00-8dfb-4288-970b-e9d9eb240697",
   "metadata": {},
   "source": [
    "## Importing the libraries"
   ]
  },
  {
   "cell_type": "code",
   "execution_count": 129,
   "id": "ff6c9e5d-f149-43d2-af40-d20054745c18",
   "metadata": {},
   "outputs": [],
   "source": [
    "import numpy as np \n",
    "import pandas as pd \n",
    "import matplotlib.pyplot as plt \n",
    "import seaborn as sns \n",
    "from sklearn.preprocessing import LabelEncoder\n",
    "from sklearn.preprocessing import StandardScaler\n",
    "from statsmodels.stats.outliers_influence import variance_inflation_factor\n",
    "from sklearn.model_selection import train_test_split\n",
    "from xgboost import XGBRegressor\n",
    "from sklearn.ensemble import RandomForestRegressor\n",
    "from sklearn.ensemble import AdaBoostRegressor\n",
    "from sklearn.tree import DecisionTreeRegressor\n",
    "from sklearn.metrics import r2_score\n",
    "from sklearn import metrics"
   ]
  },
  {
   "cell_type": "markdown",
   "id": "599ac860-01b8-47c5-8ab4-f34be42d0dc9",
   "metadata": {},
   "source": [
    "## Importing Dataset"
   ]
  },
  {
   "cell_type": "code",
   "execution_count": 130,
   "id": "7788f398-7d9f-4460-aecb-e2192448b397",
   "metadata": {},
   "outputs": [
    {
     "data": {
      "text/html": [
       "<div>\n",
       "<style scoped>\n",
       "    .dataframe tbody tr th:only-of-type {\n",
       "        vertical-align: middle;\n",
       "    }\n",
       "\n",
       "    .dataframe tbody tr th {\n",
       "        vertical-align: top;\n",
       "    }\n",
       "\n",
       "    .dataframe thead th {\n",
       "        text-align: right;\n",
       "    }\n",
       "</style>\n",
       "<table border=\"1\" class=\"dataframe\">\n",
       "  <thead>\n",
       "    <tr style=\"text-align: right;\">\n",
       "      <th></th>\n",
       "      <th>POSTED_BY</th>\n",
       "      <th>UNDER_CONSTRUCTION</th>\n",
       "      <th>RERA</th>\n",
       "      <th>BHK_NO.</th>\n",
       "      <th>BHK_OR_RK</th>\n",
       "      <th>SQUARE_FT</th>\n",
       "      <th>READY_TO_MOVE</th>\n",
       "      <th>RESALE</th>\n",
       "      <th>ADDRESS</th>\n",
       "      <th>LONGITUDE</th>\n",
       "      <th>LATITUDE</th>\n",
       "      <th>TARGET(PRICE_IN_LACS)</th>\n",
       "    </tr>\n",
       "  </thead>\n",
       "  <tbody>\n",
       "    <tr>\n",
       "      <th>0</th>\n",
       "      <td>Owner</td>\n",
       "      <td>0</td>\n",
       "      <td>0</td>\n",
       "      <td>2</td>\n",
       "      <td>BHK</td>\n",
       "      <td>1300.236407</td>\n",
       "      <td>1</td>\n",
       "      <td>1</td>\n",
       "      <td>Ksfc Layout,Bangalore</td>\n",
       "      <td>12.969910</td>\n",
       "      <td>77.597960</td>\n",
       "      <td>55.0</td>\n",
       "    </tr>\n",
       "    <tr>\n",
       "      <th>1</th>\n",
       "      <td>Dealer</td>\n",
       "      <td>0</td>\n",
       "      <td>0</td>\n",
       "      <td>2</td>\n",
       "      <td>BHK</td>\n",
       "      <td>1275.000000</td>\n",
       "      <td>1</td>\n",
       "      <td>1</td>\n",
       "      <td>Vishweshwara Nagar,Mysore</td>\n",
       "      <td>12.274538</td>\n",
       "      <td>76.644605</td>\n",
       "      <td>51.0</td>\n",
       "    </tr>\n",
       "    <tr>\n",
       "      <th>2</th>\n",
       "      <td>Owner</td>\n",
       "      <td>0</td>\n",
       "      <td>0</td>\n",
       "      <td>2</td>\n",
       "      <td>BHK</td>\n",
       "      <td>933.159722</td>\n",
       "      <td>1</td>\n",
       "      <td>1</td>\n",
       "      <td>Jigani,Bangalore</td>\n",
       "      <td>12.778033</td>\n",
       "      <td>77.632191</td>\n",
       "      <td>43.0</td>\n",
       "    </tr>\n",
       "    <tr>\n",
       "      <th>3</th>\n",
       "      <td>Owner</td>\n",
       "      <td>0</td>\n",
       "      <td>1</td>\n",
       "      <td>2</td>\n",
       "      <td>BHK</td>\n",
       "      <td>929.921143</td>\n",
       "      <td>1</td>\n",
       "      <td>1</td>\n",
       "      <td>Sector-1 Vaishali,Ghaziabad</td>\n",
       "      <td>28.642300</td>\n",
       "      <td>77.344500</td>\n",
       "      <td>62.5</td>\n",
       "    </tr>\n",
       "    <tr>\n",
       "      <th>4</th>\n",
       "      <td>Dealer</td>\n",
       "      <td>1</td>\n",
       "      <td>0</td>\n",
       "      <td>2</td>\n",
       "      <td>BHK</td>\n",
       "      <td>999.009247</td>\n",
       "      <td>0</td>\n",
       "      <td>1</td>\n",
       "      <td>New Town,Kolkata</td>\n",
       "      <td>22.592200</td>\n",
       "      <td>88.484911</td>\n",
       "      <td>60.5</td>\n",
       "    </tr>\n",
       "  </tbody>\n",
       "</table>\n",
       "</div>"
      ],
      "text/plain": [
       "  POSTED_BY  UNDER_CONSTRUCTION  RERA  ...  LONGITUDE   LATITUDE  TARGET(PRICE_IN_LACS)\n",
       "0     Owner                   0     0  ...  12.969910  77.597960                   55.0\n",
       "1    Dealer                   0     0  ...  12.274538  76.644605                   51.0\n",
       "2     Owner                   0     0  ...  12.778033  77.632191                   43.0\n",
       "3     Owner                   0     1  ...  28.642300  77.344500                   62.5\n",
       "4    Dealer                   1     0  ...  22.592200  88.484911                   60.5\n",
       "\n",
       "[5 rows x 12 columns]"
      ]
     },
     "execution_count": 130,
     "metadata": {},
     "output_type": "execute_result"
    }
   ],
   "source": [
    "df = pd.read_csv('House_Data.csv')\n",
    "df.head()"
   ]
  },
  {
   "cell_type": "markdown",
   "id": "53cd5fe8-6539-47e2-9ac5-5d059480d68a",
   "metadata": {},
   "source": [
    "## Handling Missing Data"
   ]
  },
  {
   "cell_type": "code",
   "execution_count": 131,
   "id": "425f65ba-95e1-4195-ad50-d2cf85aa4fd7",
   "metadata": {
    "scrolled": true
   },
   "outputs": [
    {
     "data": {
      "text/plain": [
       "POSTED_BY                0\n",
       "UNDER_CONSTRUCTION       0\n",
       "RERA                     0\n",
       "BHK_NO.                  0\n",
       "BHK_OR_RK                0\n",
       "SQUARE_FT                0\n",
       "READY_TO_MOVE            0\n",
       "RESALE                   0\n",
       "ADDRESS                  0\n",
       "LONGITUDE                0\n",
       "LATITUDE                 0\n",
       "TARGET(PRICE_IN_LACS)    0\n",
       "dtype: int64"
      ]
     },
     "execution_count": 131,
     "metadata": {},
     "output_type": "execute_result"
    }
   ],
   "source": [
    "df.isnull().sum()"
   ]
  },
  {
   "cell_type": "markdown",
   "id": "0f29f67c-4b82-451e-a327-398c0ee24c37",
   "metadata": {},
   "source": [
    "## Value Counts"
   ]
  },
  {
   "cell_type": "code",
   "execution_count": 132,
   "id": "048ff837-7d46-4f5c-8b19-16d1ae905883",
   "metadata": {},
   "outputs": [
    {
     "data": {
      "text/plain": [
       "POSTED_BY\n",
       "Dealer     18291\n",
       "Owner      10538\n",
       "Builder      622\n",
       "Name: count, dtype: int64"
      ]
     },
     "execution_count": 132,
     "metadata": {},
     "output_type": "execute_result"
    }
   ],
   "source": [
    "df['POSTED_BY'].value_counts()"
   ]
  },
  {
   "cell_type": "code",
   "execution_count": 133,
   "id": "b70dbbb4-bb20-4fa7-a044-18fde8b57428",
   "metadata": {},
   "outputs": [
    {
     "data": {
      "text/plain": [
       "ADDRESS\n",
       "Zirakpur,Chandigarh                   509\n",
       "Whitefield,Bangalore                  230\n",
       "Raj Nagar Extension,Ghaziabad         215\n",
       "Sector-137 Noida,Noida                139\n",
       "New Town,Kolkata                      131\n",
       "                                     ... \n",
       "Ambika Township,Jivarajpark,Rajkot      1\n",
       "Cheranalloor,Kochi                      1\n",
       "Baba Nagar,Bangalore                    1\n",
       "Barra Devi Naubasta road,Kanpur         1\n",
       "E3-108, Lake View Recidency,,Vapi       1\n",
       "Name: count, Length: 6899, dtype: int64"
      ]
     },
     "execution_count": 133,
     "metadata": {},
     "output_type": "execute_result"
    }
   ],
   "source": [
    "df['ADDRESS'].value_counts()"
   ]
  },
  {
   "cell_type": "markdown",
   "id": "0eedcfe0-c031-4e53-8453-d3784c9b54f6",
   "metadata": {},
   "source": [
    "## Removing Duplicates"
   ]
  },
  {
   "cell_type": "code",
   "execution_count": 134,
   "id": "ca1ce362-0ba5-45d8-9551-f71998461f4f",
   "metadata": {},
   "outputs": [
    {
     "data": {
      "text/plain": [
       "401"
      ]
     },
     "execution_count": 134,
     "metadata": {},
     "output_type": "execute_result"
    }
   ],
   "source": [
    "df.duplicated().sum()"
   ]
  },
  {
   "cell_type": "code",
   "execution_count": 135,
   "id": "a484615b-5374-4d56-a2d6-c515a9201007",
   "metadata": {},
   "outputs": [],
   "source": [
    "df = df.drop_duplicates()"
   ]
  },
  {
   "cell_type": "code",
   "execution_count": 136,
   "id": "b90022ba-bdc6-491b-b1fc-e5a8db9146a0",
   "metadata": {},
   "outputs": [
    {
     "data": {
      "text/plain": [
       "0"
      ]
     },
     "execution_count": 136,
     "metadata": {},
     "output_type": "execute_result"
    }
   ],
   "source": [
    "df.duplicated().sum()"
   ]
  },
  {
   "cell_type": "markdown",
   "id": "3b1d945a-cfab-4bb2-b683-9985ac9acb57",
   "metadata": {},
   "source": [
    "## Label Encoding"
   ]
  },
  {
   "cell_type": "code",
   "execution_count": 137,
   "id": "c1e6a327-b296-4caa-b122-a20fde1afc48",
   "metadata": {},
   "outputs": [],
   "source": [
    "label_encoder = LabelEncoder()"
   ]
  },
  {
   "cell_type": "code",
   "execution_count": 138,
   "id": "60318027-6322-4d25-9db7-e0763e4bfa97",
   "metadata": {},
   "outputs": [],
   "source": [
    "df['BHK_OR_RK'] = label_encoder.fit_transform(df['BHK_OR_RK'])"
   ]
  },
  {
   "cell_type": "code",
   "execution_count": 139,
   "id": "905c806c-1d0b-40dc-926e-65ba2125d0f2",
   "metadata": {},
   "outputs": [
    {
     "data": {
      "text/html": [
       "<div>\n",
       "<style scoped>\n",
       "    .dataframe tbody tr th:only-of-type {\n",
       "        vertical-align: middle;\n",
       "    }\n",
       "\n",
       "    .dataframe tbody tr th {\n",
       "        vertical-align: top;\n",
       "    }\n",
       "\n",
       "    .dataframe thead th {\n",
       "        text-align: right;\n",
       "    }\n",
       "</style>\n",
       "<table border=\"1\" class=\"dataframe\">\n",
       "  <thead>\n",
       "    <tr style=\"text-align: right;\">\n",
       "      <th></th>\n",
       "      <th>POSTED_BY</th>\n",
       "      <th>UNDER_CONSTRUCTION</th>\n",
       "      <th>RERA</th>\n",
       "      <th>BHK_NO.</th>\n",
       "      <th>BHK_OR_RK</th>\n",
       "      <th>SQUARE_FT</th>\n",
       "      <th>READY_TO_MOVE</th>\n",
       "      <th>RESALE</th>\n",
       "      <th>ADDRESS</th>\n",
       "      <th>LONGITUDE</th>\n",
       "      <th>LATITUDE</th>\n",
       "      <th>TARGET(PRICE_IN_LACS)</th>\n",
       "    </tr>\n",
       "  </thead>\n",
       "  <tbody>\n",
       "    <tr>\n",
       "      <th>0</th>\n",
       "      <td>Owner</td>\n",
       "      <td>0</td>\n",
       "      <td>0</td>\n",
       "      <td>2</td>\n",
       "      <td>0</td>\n",
       "      <td>1300.236407</td>\n",
       "      <td>1</td>\n",
       "      <td>1</td>\n",
       "      <td>Ksfc Layout,Bangalore</td>\n",
       "      <td>12.969910</td>\n",
       "      <td>77.597960</td>\n",
       "      <td>55.0</td>\n",
       "    </tr>\n",
       "    <tr>\n",
       "      <th>1</th>\n",
       "      <td>Dealer</td>\n",
       "      <td>0</td>\n",
       "      <td>0</td>\n",
       "      <td>2</td>\n",
       "      <td>0</td>\n",
       "      <td>1275.000000</td>\n",
       "      <td>1</td>\n",
       "      <td>1</td>\n",
       "      <td>Vishweshwara Nagar,Mysore</td>\n",
       "      <td>12.274538</td>\n",
       "      <td>76.644605</td>\n",
       "      <td>51.0</td>\n",
       "    </tr>\n",
       "    <tr>\n",
       "      <th>2</th>\n",
       "      <td>Owner</td>\n",
       "      <td>0</td>\n",
       "      <td>0</td>\n",
       "      <td>2</td>\n",
       "      <td>0</td>\n",
       "      <td>933.159722</td>\n",
       "      <td>1</td>\n",
       "      <td>1</td>\n",
       "      <td>Jigani,Bangalore</td>\n",
       "      <td>12.778033</td>\n",
       "      <td>77.632191</td>\n",
       "      <td>43.0</td>\n",
       "    </tr>\n",
       "    <tr>\n",
       "      <th>3</th>\n",
       "      <td>Owner</td>\n",
       "      <td>0</td>\n",
       "      <td>1</td>\n",
       "      <td>2</td>\n",
       "      <td>0</td>\n",
       "      <td>929.921143</td>\n",
       "      <td>1</td>\n",
       "      <td>1</td>\n",
       "      <td>Sector-1 Vaishali,Ghaziabad</td>\n",
       "      <td>28.642300</td>\n",
       "      <td>77.344500</td>\n",
       "      <td>62.5</td>\n",
       "    </tr>\n",
       "    <tr>\n",
       "      <th>4</th>\n",
       "      <td>Dealer</td>\n",
       "      <td>1</td>\n",
       "      <td>0</td>\n",
       "      <td>2</td>\n",
       "      <td>0</td>\n",
       "      <td>999.009247</td>\n",
       "      <td>0</td>\n",
       "      <td>1</td>\n",
       "      <td>New Town,Kolkata</td>\n",
       "      <td>22.592200</td>\n",
       "      <td>88.484911</td>\n",
       "      <td>60.5</td>\n",
       "    </tr>\n",
       "  </tbody>\n",
       "</table>\n",
       "</div>"
      ],
      "text/plain": [
       "  POSTED_BY  UNDER_CONSTRUCTION  RERA  ...  LONGITUDE   LATITUDE  TARGET(PRICE_IN_LACS)\n",
       "0     Owner                   0     0  ...  12.969910  77.597960                   55.0\n",
       "1    Dealer                   0     0  ...  12.274538  76.644605                   51.0\n",
       "2     Owner                   0     0  ...  12.778033  77.632191                   43.0\n",
       "3     Owner                   0     1  ...  28.642300  77.344500                   62.5\n",
       "4    Dealer                   1     0  ...  22.592200  88.484911                   60.5\n",
       "\n",
       "[5 rows x 12 columns]"
      ]
     },
     "execution_count": 139,
     "metadata": {},
     "output_type": "execute_result"
    }
   ],
   "source": [
    "df.head()"
   ]
  },
  {
   "cell_type": "markdown",
   "id": "8cd3a925-fcf7-4b83-bd57-82ba4aefc7fb",
   "metadata": {},
   "source": [
    "## One Hot Encoding"
   ]
  },
  {
   "cell_type": "code",
   "execution_count": 140,
   "id": "fed948a4-5081-4c53-b6d2-33ef6ff7a023",
   "metadata": {},
   "outputs": [],
   "source": [
    "df = pd.get_dummies(df, columns=['POSTED_BY'], dtype=int)"
   ]
  },
  {
   "cell_type": "code",
   "execution_count": 141,
   "id": "06570f99-d5a1-4dd3-b465-12da79c62a45",
   "metadata": {
    "scrolled": true
   },
   "outputs": [
    {
     "data": {
      "text/html": [
       "<div>\n",
       "<style scoped>\n",
       "    .dataframe tbody tr th:only-of-type {\n",
       "        vertical-align: middle;\n",
       "    }\n",
       "\n",
       "    .dataframe tbody tr th {\n",
       "        vertical-align: top;\n",
       "    }\n",
       "\n",
       "    .dataframe thead th {\n",
       "        text-align: right;\n",
       "    }\n",
       "</style>\n",
       "<table border=\"1\" class=\"dataframe\">\n",
       "  <thead>\n",
       "    <tr style=\"text-align: right;\">\n",
       "      <th></th>\n",
       "      <th>UNDER_CONSTRUCTION</th>\n",
       "      <th>RERA</th>\n",
       "      <th>BHK_NO.</th>\n",
       "      <th>BHK_OR_RK</th>\n",
       "      <th>SQUARE_FT</th>\n",
       "      <th>READY_TO_MOVE</th>\n",
       "      <th>RESALE</th>\n",
       "      <th>ADDRESS</th>\n",
       "      <th>LONGITUDE</th>\n",
       "      <th>LATITUDE</th>\n",
       "      <th>TARGET(PRICE_IN_LACS)</th>\n",
       "      <th>POSTED_BY_Builder</th>\n",
       "      <th>POSTED_BY_Dealer</th>\n",
       "      <th>POSTED_BY_Owner</th>\n",
       "    </tr>\n",
       "  </thead>\n",
       "  <tbody>\n",
       "    <tr>\n",
       "      <th>0</th>\n",
       "      <td>0</td>\n",
       "      <td>0</td>\n",
       "      <td>2</td>\n",
       "      <td>0</td>\n",
       "      <td>1300.236407</td>\n",
       "      <td>1</td>\n",
       "      <td>1</td>\n",
       "      <td>Ksfc Layout,Bangalore</td>\n",
       "      <td>12.969910</td>\n",
       "      <td>77.597960</td>\n",
       "      <td>55.0</td>\n",
       "      <td>0</td>\n",
       "      <td>0</td>\n",
       "      <td>1</td>\n",
       "    </tr>\n",
       "    <tr>\n",
       "      <th>1</th>\n",
       "      <td>0</td>\n",
       "      <td>0</td>\n",
       "      <td>2</td>\n",
       "      <td>0</td>\n",
       "      <td>1275.000000</td>\n",
       "      <td>1</td>\n",
       "      <td>1</td>\n",
       "      <td>Vishweshwara Nagar,Mysore</td>\n",
       "      <td>12.274538</td>\n",
       "      <td>76.644605</td>\n",
       "      <td>51.0</td>\n",
       "      <td>0</td>\n",
       "      <td>1</td>\n",
       "      <td>0</td>\n",
       "    </tr>\n",
       "    <tr>\n",
       "      <th>2</th>\n",
       "      <td>0</td>\n",
       "      <td>0</td>\n",
       "      <td>2</td>\n",
       "      <td>0</td>\n",
       "      <td>933.159722</td>\n",
       "      <td>1</td>\n",
       "      <td>1</td>\n",
       "      <td>Jigani,Bangalore</td>\n",
       "      <td>12.778033</td>\n",
       "      <td>77.632191</td>\n",
       "      <td>43.0</td>\n",
       "      <td>0</td>\n",
       "      <td>0</td>\n",
       "      <td>1</td>\n",
       "    </tr>\n",
       "    <tr>\n",
       "      <th>3</th>\n",
       "      <td>0</td>\n",
       "      <td>1</td>\n",
       "      <td>2</td>\n",
       "      <td>0</td>\n",
       "      <td>929.921143</td>\n",
       "      <td>1</td>\n",
       "      <td>1</td>\n",
       "      <td>Sector-1 Vaishali,Ghaziabad</td>\n",
       "      <td>28.642300</td>\n",
       "      <td>77.344500</td>\n",
       "      <td>62.5</td>\n",
       "      <td>0</td>\n",
       "      <td>0</td>\n",
       "      <td>1</td>\n",
       "    </tr>\n",
       "    <tr>\n",
       "      <th>4</th>\n",
       "      <td>1</td>\n",
       "      <td>0</td>\n",
       "      <td>2</td>\n",
       "      <td>0</td>\n",
       "      <td>999.009247</td>\n",
       "      <td>0</td>\n",
       "      <td>1</td>\n",
       "      <td>New Town,Kolkata</td>\n",
       "      <td>22.592200</td>\n",
       "      <td>88.484911</td>\n",
       "      <td>60.5</td>\n",
       "      <td>0</td>\n",
       "      <td>1</td>\n",
       "      <td>0</td>\n",
       "    </tr>\n",
       "  </tbody>\n",
       "</table>\n",
       "</div>"
      ],
      "text/plain": [
       "   UNDER_CONSTRUCTION  RERA  BHK_NO.  ...  POSTED_BY_Builder  POSTED_BY_Dealer  POSTED_BY_Owner\n",
       "0                   0     0        2  ...                  0                 0                1\n",
       "1                   0     0        2  ...                  0                 1                0\n",
       "2                   0     0        2  ...                  0                 0                1\n",
       "3                   0     1        2  ...                  0                 0                1\n",
       "4                   1     0        2  ...                  0                 1                0\n",
       "\n",
       "[5 rows x 14 columns]"
      ]
     },
     "execution_count": 141,
     "metadata": {},
     "output_type": "execute_result"
    }
   ],
   "source": [
    "df.head()"
   ]
  },
  {
   "cell_type": "markdown",
   "id": "7cd6463d-b61d-42f8-88f9-d62c2041258e",
   "metadata": {},
   "source": [
    "## Creating New Feature"
   ]
  },
  {
   "cell_type": "code",
   "execution_count": 142,
   "id": "45c85b88-0fa8-4c1b-aa95-8963a787baa5",
   "metadata": {},
   "outputs": [],
   "source": [
    "df['CITY'] = df['ADDRESS'].str.split(',').str[-1]\n",
    "df = df.drop('ADDRESS', axis = 1)"
   ]
  },
  {
   "cell_type": "code",
   "execution_count": 143,
   "id": "672eff6d-d612-4c34-b745-06ff2330110a",
   "metadata": {},
   "outputs": [
    {
     "data": {
      "text/html": [
       "<div>\n",
       "<style scoped>\n",
       "    .dataframe tbody tr th:only-of-type {\n",
       "        vertical-align: middle;\n",
       "    }\n",
       "\n",
       "    .dataframe tbody tr th {\n",
       "        vertical-align: top;\n",
       "    }\n",
       "\n",
       "    .dataframe thead th {\n",
       "        text-align: right;\n",
       "    }\n",
       "</style>\n",
       "<table border=\"1\" class=\"dataframe\">\n",
       "  <thead>\n",
       "    <tr style=\"text-align: right;\">\n",
       "      <th></th>\n",
       "      <th>UNDER_CONSTRUCTION</th>\n",
       "      <th>RERA</th>\n",
       "      <th>BHK_NO.</th>\n",
       "      <th>BHK_OR_RK</th>\n",
       "      <th>SQUARE_FT</th>\n",
       "      <th>READY_TO_MOVE</th>\n",
       "      <th>RESALE</th>\n",
       "      <th>LONGITUDE</th>\n",
       "      <th>LATITUDE</th>\n",
       "      <th>TARGET(PRICE_IN_LACS)</th>\n",
       "      <th>POSTED_BY_Builder</th>\n",
       "      <th>POSTED_BY_Dealer</th>\n",
       "      <th>POSTED_BY_Owner</th>\n",
       "      <th>CITY</th>\n",
       "    </tr>\n",
       "  </thead>\n",
       "  <tbody>\n",
       "    <tr>\n",
       "      <th>0</th>\n",
       "      <td>0</td>\n",
       "      <td>0</td>\n",
       "      <td>2</td>\n",
       "      <td>0</td>\n",
       "      <td>1300.236407</td>\n",
       "      <td>1</td>\n",
       "      <td>1</td>\n",
       "      <td>12.969910</td>\n",
       "      <td>77.597960</td>\n",
       "      <td>55.0</td>\n",
       "      <td>0</td>\n",
       "      <td>0</td>\n",
       "      <td>1</td>\n",
       "      <td>Bangalore</td>\n",
       "    </tr>\n",
       "    <tr>\n",
       "      <th>1</th>\n",
       "      <td>0</td>\n",
       "      <td>0</td>\n",
       "      <td>2</td>\n",
       "      <td>0</td>\n",
       "      <td>1275.000000</td>\n",
       "      <td>1</td>\n",
       "      <td>1</td>\n",
       "      <td>12.274538</td>\n",
       "      <td>76.644605</td>\n",
       "      <td>51.0</td>\n",
       "      <td>0</td>\n",
       "      <td>1</td>\n",
       "      <td>0</td>\n",
       "      <td>Mysore</td>\n",
       "    </tr>\n",
       "    <tr>\n",
       "      <th>2</th>\n",
       "      <td>0</td>\n",
       "      <td>0</td>\n",
       "      <td>2</td>\n",
       "      <td>0</td>\n",
       "      <td>933.159722</td>\n",
       "      <td>1</td>\n",
       "      <td>1</td>\n",
       "      <td>12.778033</td>\n",
       "      <td>77.632191</td>\n",
       "      <td>43.0</td>\n",
       "      <td>0</td>\n",
       "      <td>0</td>\n",
       "      <td>1</td>\n",
       "      <td>Bangalore</td>\n",
       "    </tr>\n",
       "    <tr>\n",
       "      <th>3</th>\n",
       "      <td>0</td>\n",
       "      <td>1</td>\n",
       "      <td>2</td>\n",
       "      <td>0</td>\n",
       "      <td>929.921143</td>\n",
       "      <td>1</td>\n",
       "      <td>1</td>\n",
       "      <td>28.642300</td>\n",
       "      <td>77.344500</td>\n",
       "      <td>62.5</td>\n",
       "      <td>0</td>\n",
       "      <td>0</td>\n",
       "      <td>1</td>\n",
       "      <td>Ghaziabad</td>\n",
       "    </tr>\n",
       "    <tr>\n",
       "      <th>4</th>\n",
       "      <td>1</td>\n",
       "      <td>0</td>\n",
       "      <td>2</td>\n",
       "      <td>0</td>\n",
       "      <td>999.009247</td>\n",
       "      <td>0</td>\n",
       "      <td>1</td>\n",
       "      <td>22.592200</td>\n",
       "      <td>88.484911</td>\n",
       "      <td>60.5</td>\n",
       "      <td>0</td>\n",
       "      <td>1</td>\n",
       "      <td>0</td>\n",
       "      <td>Kolkata</td>\n",
       "    </tr>\n",
       "  </tbody>\n",
       "</table>\n",
       "</div>"
      ],
      "text/plain": [
       "   UNDER_CONSTRUCTION  RERA  BHK_NO.  BHK_OR_RK  ...  POSTED_BY_Builder  POSTED_BY_Dealer  POSTED_BY_Owner       CITY\n",
       "0                   0     0        2          0  ...                  0                 0                1  Bangalore\n",
       "1                   0     0        2          0  ...                  0                 1                0     Mysore\n",
       "2                   0     0        2          0  ...                  0                 0                1  Bangalore\n",
       "3                   0     1        2          0  ...                  0                 0                1  Ghaziabad\n",
       "4                   1     0        2          0  ...                  0                 1                0    Kolkata\n",
       "\n",
       "[5 rows x 14 columns]"
      ]
     },
     "execution_count": 143,
     "metadata": {},
     "output_type": "execute_result"
    }
   ],
   "source": [
    "df.head()"
   ]
  },
  {
   "cell_type": "code",
   "execution_count": 144,
   "id": "9edfb468-7d52-40a3-9fc6-ddee6556bba5",
   "metadata": {},
   "outputs": [],
   "source": [
    "df['CITY'] = label_encoder.fit_transform(df['CITY'])"
   ]
  },
  {
   "cell_type": "code",
   "execution_count": 145,
   "id": "100291e5-5072-484b-a7b4-461fb9241070",
   "metadata": {},
   "outputs": [],
   "source": [
    "df['BHK_SqFt'] = df['BHK_NO.'] * df['SQUARE_FT']"
   ]
  },
  {
   "cell_type": "markdown",
   "id": "27564d4c-9e00-4a6b-bc66-efc7c5bfd7a9",
   "metadata": {},
   "source": [
    "## Correlation with Target Variable"
   ]
  },
  {
   "cell_type": "code",
   "execution_count": 146,
   "id": "d30b9322-10e0-48b9-b0a8-a620b2a96dc4",
   "metadata": {},
   "outputs": [
    {
     "data": {
      "text/plain": [
       "UNDER_CONSTRUCTION       0.054618\n",
       "RERA                     0.067314\n",
       "BHK_NO.                  0.113654\n",
       "BHK_OR_RK               -0.004453\n",
       "SQUARE_FT                0.409571\n",
       "READY_TO_MOVE           -0.054618\n",
       "RESALE                  -0.203275\n",
       "LONGITUDE               -0.030505\n",
       "LATITUDE                -0.017813\n",
       "TARGET(PRICE_IN_LACS)    1.000000\n",
       "POSTED_BY_Builder        0.023836\n",
       "POSTED_BY_Dealer         0.085308\n",
       "POSTED_BY_Owner         -0.093488\n",
       "CITY                     0.005901\n",
       "BHK_SqFt                 0.397787\n",
       "Name: TARGET(PRICE_IN_LACS), dtype: float64"
      ]
     },
     "execution_count": 146,
     "metadata": {},
     "output_type": "execute_result"
    }
   ],
   "source": [
    "df.corr()['TARGET(PRICE_IN_LACS)']"
   ]
  },
  {
   "cell_type": "code",
   "execution_count": 147,
   "id": "c122c50d-2791-4d15-8765-2c1476327cef",
   "metadata": {},
   "outputs": [
    {
     "data": {
      "text/plain": [
       "UNDER_CONSTRUCTION       0.054618\n",
       "RERA                     0.067314\n",
       "BHK_NO.                  0.113654\n",
       "BHK_OR_RK               -0.004453\n",
       "SQUARE_FT                0.409571\n",
       "READY_TO_MOVE           -0.054618\n",
       "RESALE                  -0.203275\n",
       "LONGITUDE               -0.030505\n",
       "LATITUDE                -0.017813\n",
       "TARGET(PRICE_IN_LACS)    1.000000\n",
       "POSTED_BY_Builder        0.023836\n",
       "POSTED_BY_Dealer         0.085308\n",
       "POSTED_BY_Owner         -0.093488\n",
       "CITY                     0.005901\n",
       "BHK_SqFt                 0.397787\n",
       "Name: TARGET(PRICE_IN_LACS), dtype: float64"
      ]
     },
     "execution_count": 147,
     "metadata": {},
     "output_type": "execute_result"
    }
   ],
   "source": [
    "df.corr()['TARGET(PRICE_IN_LACS)']"
   ]
  },
  {
   "cell_type": "markdown",
   "id": "cfe3afdb-aa5d-40da-bd50-a281818eef68",
   "metadata": {},
   "source": [
    "## Heat Map"
   ]
  },
  {
   "cell_type": "code",
   "execution_count": 148,
   "id": "97480bd6-20af-4163-9bd9-f6466b5847be",
   "metadata": {},
   "outputs": [
    {
     "data": {
      "text/plain": [
       "<Axes: >"
      ]
     },
     "execution_count": 148,
     "metadata": {},
     "output_type": "execute_result"
    },
    {
     "data": {
      "image/png": "[encoded data removed]",
      "text/plain": [
       "<Figure size 1000x1000 with 2 Axes>"
      ]
     },
     "metadata": {},
     "output_type": "display_data"
    }
   ],
   "source": [
    "Correlation = df.corr()\n",
    "plt.figure(figsize=(10,10))\n",
    "sns.heatmap(Correlation, cbar=True, square=True, fmt='.1f', annot= True, cmap = 'coolwarm')"
   ]
  },
  {
   "cell_type": "markdown",
   "id": "4904aaeb-62e9-4c80-85b4-9ba35f59b0f8",
   "metadata": {},
   "source": [
    "## Checking Covariance between Relevant Attributes"
   ]
  },
  {
   "cell_type": "code",
   "execution_count": 149,
   "id": "730f1453-ac4d-4e3e-8a39-ff07056db42b",
   "metadata": {},
   "outputs": [
    {
     "name": "stdout",
     "output_type": "stream",
     "text": [
      "     Feature         VIF\n",
      "0   BHK_SqFt  151.540364\n",
      "1  SQUARE_FT  151.540749\n",
      "2    BHK_NO.    1.000137\n"
     ]
    }
   ],
   "source": [
    "X = df[[ 'BHK_SqFt', 'SQUARE_FT', 'BHK_NO.']]  # Select relevant columns\n",
    "vif_data = pd.DataFrame()\n",
    "vif_data['Feature'] = X.columns\n",
    "vif_data['VIF'] = [variance_inflation_factor(X.values, i) for i in range(X.shape[1])]\n",
    "\n",
    "print(vif_data)\n"
   ]
  },
  {
   "cell_type": "markdown",
   "id": "05f970a0-1ed7-4ef8-beb3-83639747e9e6",
   "metadata": {},
   "source": [
    "## Dropping Least Relevant Feature"
   ]
  },
  {
   "cell_type": "code",
   "execution_count": 150,
   "id": "462b8346-0f24-4cce-b293-945cd3c66ea9",
   "metadata": {},
   "outputs": [],
   "source": [
    "df = df.drop('BHK_SqFt', axis=1)"
   ]
  },
  {
   "cell_type": "code",
   "execution_count": 151,
   "id": "57a8ca41-ba59-477c-ae46-286df2d4aba6",
   "metadata": {},
   "outputs": [
    {
     "data": {
      "text/html": [
       "<div>\n",
       "<style scoped>\n",
       "    .dataframe tbody tr th:only-of-type {\n",
       "        vertical-align: middle;\n",
       "    }\n",
       "\n",
       "    .dataframe tbody tr th {\n",
       "        vertical-align: top;\n",
       "    }\n",
       "\n",
       "    .dataframe thead th {\n",
       "        text-align: right;\n",
       "    }\n",
       "</style>\n",
       "<table border=\"1\" class=\"dataframe\">\n",
       "  <thead>\n",
       "    <tr style=\"text-align: right;\">\n",
       "      <th></th>\n",
       "      <th>UNDER_CONSTRUCTION</th>\n",
       "      <th>RERA</th>\n",
       "      <th>BHK_NO.</th>\n",
       "      <th>BHK_OR_RK</th>\n",
       "      <th>SQUARE_FT</th>\n",
       "      <th>READY_TO_MOVE</th>\n",
       "      <th>RESALE</th>\n",
       "      <th>LONGITUDE</th>\n",
       "      <th>LATITUDE</th>\n",
       "      <th>TARGET(PRICE_IN_LACS)</th>\n",
       "      <th>POSTED_BY_Builder</th>\n",
       "      <th>POSTED_BY_Dealer</th>\n",
       "      <th>POSTED_BY_Owner</th>\n",
       "      <th>CITY</th>\n",
       "    </tr>\n",
       "  </thead>\n",
       "  <tbody>\n",
       "    <tr>\n",
       "      <th>0</th>\n",
       "      <td>0</td>\n",
       "      <td>0</td>\n",
       "      <td>2</td>\n",
       "      <td>0</td>\n",
       "      <td>1300.236407</td>\n",
       "      <td>1</td>\n",
       "      <td>1</td>\n",
       "      <td>12.969910</td>\n",
       "      <td>77.597960</td>\n",
       "      <td>55.0</td>\n",
       "      <td>0</td>\n",
       "      <td>0</td>\n",
       "      <td>1</td>\n",
       "      <td>21</td>\n",
       "    </tr>\n",
       "    <tr>\n",
       "      <th>1</th>\n",
       "      <td>0</td>\n",
       "      <td>0</td>\n",
       "      <td>2</td>\n",
       "      <td>0</td>\n",
       "      <td>1275.000000</td>\n",
       "      <td>1</td>\n",
       "      <td>1</td>\n",
       "      <td>12.274538</td>\n",
       "      <td>76.644605</td>\n",
       "      <td>51.0</td>\n",
       "      <td>0</td>\n",
       "      <td>1</td>\n",
       "      <td>0</td>\n",
       "      <td>160</td>\n",
       "    </tr>\n",
       "    <tr>\n",
       "      <th>2</th>\n",
       "      <td>0</td>\n",
       "      <td>0</td>\n",
       "      <td>2</td>\n",
       "      <td>0</td>\n",
       "      <td>933.159722</td>\n",
       "      <td>1</td>\n",
       "      <td>1</td>\n",
       "      <td>12.778033</td>\n",
       "      <td>77.632191</td>\n",
       "      <td>43.0</td>\n",
       "      <td>0</td>\n",
       "      <td>0</td>\n",
       "      <td>1</td>\n",
       "      <td>21</td>\n",
       "    </tr>\n",
       "    <tr>\n",
       "      <th>3</th>\n",
       "      <td>0</td>\n",
       "      <td>1</td>\n",
       "      <td>2</td>\n",
       "      <td>0</td>\n",
       "      <td>929.921143</td>\n",
       "      <td>1</td>\n",
       "      <td>1</td>\n",
       "      <td>28.642300</td>\n",
       "      <td>77.344500</td>\n",
       "      <td>62.5</td>\n",
       "      <td>0</td>\n",
       "      <td>0</td>\n",
       "      <td>1</td>\n",
       "      <td>78</td>\n",
       "    </tr>\n",
       "    <tr>\n",
       "      <th>4</th>\n",
       "      <td>1</td>\n",
       "      <td>0</td>\n",
       "      <td>2</td>\n",
       "      <td>0</td>\n",
       "      <td>999.009247</td>\n",
       "      <td>0</td>\n",
       "      <td>1</td>\n",
       "      <td>22.592200</td>\n",
       "      <td>88.484911</td>\n",
       "      <td>60.5</td>\n",
       "      <td>0</td>\n",
       "      <td>1</td>\n",
       "      <td>0</td>\n",
       "      <td>134</td>\n",
       "    </tr>\n",
       "  </tbody>\n",
       "</table>\n",
       "</div>"
      ],
      "text/plain": [
       "   UNDER_CONSTRUCTION  RERA  BHK_NO.  BHK_OR_RK  ...  POSTED_BY_Builder  POSTED_BY_Dealer  POSTED_BY_Owner  CITY\n",
       "0                   0     0        2          0  ...                  0                 0                1    21\n",
       "1                   0     0        2          0  ...                  0                 1                0   160\n",
       "2                   0     0        2          0  ...                  0                 0                1    21\n",
       "3                   0     1        2          0  ...                  0                 0                1    78\n",
       "4                   1     0        2          0  ...                  0                 1                0   134\n",
       "\n",
       "[5 rows x 14 columns]"
      ]
     },
     "execution_count": 151,
     "metadata": {},
     "output_type": "execute_result"
    }
   ],
   "source": [
    "df.head()"
   ]
  },
  {
   "cell_type": "code",
   "execution_count": 152,
   "id": "dc3c7ebf-9ba0-4b2a-adec-f4ae9db27016",
   "metadata": {},
   "outputs": [],
   "source": [
    "df = df.drop('CITY', axis=1)"
   ]
  },
  {
   "cell_type": "markdown",
   "id": "8c34352f-91ec-4f1a-95e6-713c1caa32a4",
   "metadata": {},
   "source": [
    "## DistPlot"
   ]
  },
  {
   "cell_type": "code",
   "execution_count": 153,
   "id": "5b30e05f-c59e-4270-8e15-abd58dab371c",
   "metadata": {},
   "outputs": [
    {
     "name": "stderr",
     "output_type": "stream",
     "text": [
      "C:\\Users\\parth\\AppData\\Local\\Temp\\ipykernel_12664\\2501502160.py:1: UserWarning: \n",
      "\n",
      "`distplot` is a deprecated function and will be removed in seaborn v0.14.0.\n",
      "\n",
      "Please adapt your code to use either `displot` (a figure-level function with\n",
      "similar flexibility) or `histplot` (an axes-level function for histograms).\n",
      "\n",
      "For a guide to updating your code to use the new functions, please see\n",
      "https://gist.github.com/mwaskom/de44147ed2974457ad6372750bbe5751\n",
      "\n",
      "  sns.distplot(df['TARGET(PRICE_IN_LACS)'])\n"
     ]
    },
    {
     "data": {
      "text/plain": [
       "<Axes: xlabel='TARGET(PRICE_IN_LACS)', ylabel='Density'>"
      ]
     },
     "execution_count": 153,
     "metadata": {},
     "output_type": "execute_result"
    },
    {
     "data": {
      "image/png": "[encoded data removed]",
      "text/plain": [
       "<Figure size 640x480 with 1 Axes>"
      ]
     },
     "metadata": {},
     "output_type": "display_data"
    }
   ],
   "source": [
    "sns.distplot(df['TARGET(PRICE_IN_LACS)'])"
   ]
  },
  {
   "cell_type": "code",
   "execution_count": 154,
   "id": "8f308b82-745d-4c46-ac76-0987c8f73b43",
   "metadata": {},
   "outputs": [
    {
     "data": {
      "text/html": [
       "<div>\n",
       "<style scoped>\n",
       "    .dataframe tbody tr th:only-of-type {\n",
       "        vertical-align: middle;\n",
       "    }\n",
       "\n",
       "    .dataframe tbody tr th {\n",
       "        vertical-align: top;\n",
       "    }\n",
       "\n",
       "    .dataframe thead th {\n",
       "        text-align: right;\n",
       "    }\n",
       "</style>\n",
       "<table border=\"1\" class=\"dataframe\">\n",
       "  <thead>\n",
       "    <tr style=\"text-align: right;\">\n",
       "      <th></th>\n",
       "      <th>UNDER_CONSTRUCTION</th>\n",
       "      <th>RERA</th>\n",
       "      <th>BHK_NO.</th>\n",
       "      <th>BHK_OR_RK</th>\n",
       "      <th>SQUARE_FT</th>\n",
       "      <th>READY_TO_MOVE</th>\n",
       "      <th>RESALE</th>\n",
       "      <th>LONGITUDE</th>\n",
       "      <th>LATITUDE</th>\n",
       "      <th>TARGET(PRICE_IN_LACS)</th>\n",
       "      <th>POSTED_BY_Builder</th>\n",
       "      <th>POSTED_BY_Dealer</th>\n",
       "      <th>POSTED_BY_Owner</th>\n",
       "    </tr>\n",
       "  </thead>\n",
       "  <tbody>\n",
       "    <tr>\n",
       "      <th>count</th>\n",
       "      <td>29050.000000</td>\n",
       "      <td>29050.000000</td>\n",
       "      <td>29050.000000</td>\n",
       "      <td>29050.000000</td>\n",
       "      <td>2.905000e+04</td>\n",
       "      <td>29050.000000</td>\n",
       "      <td>29050.000000</td>\n",
       "      <td>29050.000000</td>\n",
       "      <td>29050.000000</td>\n",
       "      <td>29050.000000</td>\n",
       "      <td>29050.000000</td>\n",
       "      <td>29050.000000</td>\n",
       "      <td>29050.000000</td>\n",
       "    </tr>\n",
       "    <tr>\n",
       "      <th>mean</th>\n",
       "      <td>0.178967</td>\n",
       "      <td>0.315869</td>\n",
       "      <td>2.390809</td>\n",
       "      <td>0.000826</td>\n",
       "      <td>2.003171e+04</td>\n",
       "      <td>0.821033</td>\n",
       "      <td>0.930361</td>\n",
       "      <td>21.270272</td>\n",
       "      <td>76.829585</td>\n",
       "      <td>141.712677</td>\n",
       "      <td>0.021308</td>\n",
       "      <td>0.618279</td>\n",
       "      <td>0.360413</td>\n",
       "    </tr>\n",
       "    <tr>\n",
       "      <th>std</th>\n",
       "      <td>0.383332</td>\n",
       "      <td>0.464869</td>\n",
       "      <td>0.880677</td>\n",
       "      <td>0.028732</td>\n",
       "      <td>1.914411e+06</td>\n",
       "      <td>0.383332</td>\n",
       "      <td>0.254541</td>\n",
       "      <td>6.195973</td>\n",
       "      <td>10.567572</td>\n",
       "      <td>650.055763</td>\n",
       "      <td>0.144412</td>\n",
       "      <td>0.485817</td>\n",
       "      <td>0.480129</td>\n",
       "    </tr>\n",
       "    <tr>\n",
       "      <th>min</th>\n",
       "      <td>0.000000</td>\n",
       "      <td>0.000000</td>\n",
       "      <td>1.000000</td>\n",
       "      <td>0.000000</td>\n",
       "      <td>3.000000e+00</td>\n",
       "      <td>0.000000</td>\n",
       "      <td>0.000000</td>\n",
       "      <td>-37.713008</td>\n",
       "      <td>-121.761248</td>\n",
       "      <td>0.250000</td>\n",
       "      <td>0.000000</td>\n",
       "      <td>0.000000</td>\n",
       "      <td>0.000000</td>\n",
       "    </tr>\n",
       "    <tr>\n",
       "      <th>25%</th>\n",
       "      <td>0.000000</td>\n",
       "      <td>0.000000</td>\n",
       "      <td>2.000000</td>\n",
       "      <td>0.000000</td>\n",
       "      <td>9.000000e+02</td>\n",
       "      <td>1.000000</td>\n",
       "      <td>1.000000</td>\n",
       "      <td>18.452663</td>\n",
       "      <td>73.794800</td>\n",
       "      <td>38.000000</td>\n",
       "      <td>0.000000</td>\n",
       "      <td>0.000000</td>\n",
       "      <td>0.000000</td>\n",
       "    </tr>\n",
       "    <tr>\n",
       "      <th>50%</th>\n",
       "      <td>0.000000</td>\n",
       "      <td>0.000000</td>\n",
       "      <td>2.000000</td>\n",
       "      <td>0.000000</td>\n",
       "      <td>1.172742e+03</td>\n",
       "      <td>1.000000</td>\n",
       "      <td>1.000000</td>\n",
       "      <td>20.631532</td>\n",
       "      <td>77.322873</td>\n",
       "      <td>61.750000</td>\n",
       "      <td>0.000000</td>\n",
       "      <td>1.000000</td>\n",
       "      <td>0.000000</td>\n",
       "    </tr>\n",
       "    <tr>\n",
       "      <th>75%</th>\n",
       "      <td>0.000000</td>\n",
       "      <td>1.000000</td>\n",
       "      <td>3.000000</td>\n",
       "      <td>0.000000</td>\n",
       "      <td>1.550169e+03</td>\n",
       "      <td>1.000000</td>\n",
       "      <td>1.000000</td>\n",
       "      <td>26.886881</td>\n",
       "      <td>77.912934</td>\n",
       "      <td>100.000000</td>\n",
       "      <td>0.000000</td>\n",
       "      <td>1.000000</td>\n",
       "      <td>1.000000</td>\n",
       "    </tr>\n",
       "    <tr>\n",
       "      <th>max</th>\n",
       "      <td>1.000000</td>\n",
       "      <td>1.000000</td>\n",
       "      <td>20.000000</td>\n",
       "      <td>1.000000</td>\n",
       "      <td>2.545455e+08</td>\n",
       "      <td>1.000000</td>\n",
       "      <td>1.000000</td>\n",
       "      <td>59.912884</td>\n",
       "      <td>152.962676</td>\n",
       "      <td>30000.000000</td>\n",
       "      <td>1.000000</td>\n",
       "      <td>1.000000</td>\n",
       "      <td>1.000000</td>\n",
       "    </tr>\n",
       "  </tbody>\n",
       "</table>\n",
       "</div>"
      ],
      "text/plain": [
       "       UNDER_CONSTRUCTION          RERA       BHK_NO.  ...  POSTED_BY_Builder  POSTED_BY_Dealer  POSTED_BY_Owner\n",
       "count        29050.000000  29050.000000  29050.000000  ...       29050.000000      29050.000000     29050.000000\n",
       "mean             0.178967      0.315869      2.390809  ...           0.021308          0.618279         0.360413\n",
       "std              0.383332      0.464869      0.880677  ...           0.144412          0.485817         0.480129\n",
       "min              0.000000      0.000000      1.000000  ...           0.000000          0.000000         0.000000\n",
       "25%              0.000000      0.000000      2.000000  ...           0.000000          0.000000         0.000000\n",
       "50%              0.000000      0.000000      2.000000  ...           0.000000          1.000000         0.000000\n",
       "75%              0.000000      1.000000      3.000000  ...           0.000000          1.000000         1.000000\n",
       "max              1.000000      1.000000     20.000000  ...           1.000000          1.000000         1.000000\n",
       "\n",
       "[8 rows x 13 columns]"
      ]
     },
     "execution_count": 154,
     "metadata": {},
     "output_type": "execute_result"
    }
   ],
   "source": [
    "df.describe()"
   ]
  },
  {
   "cell_type": "code",
   "execution_count": 155,
   "id": "3dab5dc7-f51f-4a3e-9a31-e0574df155d7",
   "metadata": {},
   "outputs": [
    {
     "data": {
      "text/plain": [
       "UNDER_CONSTRUCTION       0.054618\n",
       "RERA                     0.067314\n",
       "BHK_NO.                  0.113654\n",
       "BHK_OR_RK               -0.004453\n",
       "SQUARE_FT                0.409571\n",
       "READY_TO_MOVE           -0.054618\n",
       "RESALE                  -0.203275\n",
       "LONGITUDE               -0.030505\n",
       "LATITUDE                -0.017813\n",
       "TARGET(PRICE_IN_LACS)    1.000000\n",
       "POSTED_BY_Builder        0.023836\n",
       "POSTED_BY_Dealer         0.085308\n",
       "POSTED_BY_Owner         -0.093488\n",
       "Name: TARGET(PRICE_IN_LACS), dtype: float64"
      ]
     },
     "execution_count": 155,
     "metadata": {},
     "output_type": "execute_result"
    }
   ],
   "source": [
    "df.corr()['TARGET(PRICE_IN_LACS)']"
   ]
  },
  {
   "cell_type": "code",
   "execution_count": 156,
   "id": "ba93825d-5c07-48df-b777-7bbcb42ed72c",
   "metadata": {},
   "outputs": [],
   "source": [
    "df = df.drop('BHK_OR_RK', axis = 1)"
   ]
  },
  {
   "cell_type": "markdown",
   "id": "982beab1-28c8-4e11-b118-6aa80f1ac133",
   "metadata": {},
   "source": [
    "## Feature Scaling"
   ]
  },
  {
   "cell_type": "code",
   "execution_count": 157,
   "id": "02a5fc2e-f397-4311-b30d-535ca163a8cb",
   "metadata": {},
   "outputs": [],
   "source": [
    "scaler = StandardScaler()"
   ]
  },
  {
   "cell_type": "code",
   "execution_count": 158,
   "id": "2694159a-4732-4de1-9dd8-1dbfd5ef93e5",
   "metadata": {},
   "outputs": [],
   "source": [
    "X = df.drop('TARGET(PRICE_IN_LACS)', axis = 1)\n",
    "Y = df['TARGET(PRICE_IN_LACS)']"
   ]
  },
  {
   "cell_type": "code",
   "execution_count": 159,
   "id": "4498c987-ddff-4c66-a821-e42ce9691245",
   "metadata": {},
   "outputs": [
    {
     "data": {
      "text/plain": [
       "UNDER_CONSTRUCTION    3.833315e-01\n",
       "RERA                  4.648691e-01\n",
       "BHK_NO.               8.806765e-01\n",
       "SQUARE_FT             1.914411e+06\n",
       "READY_TO_MOVE         3.833315e-01\n",
       "RESALE                2.545413e-01\n",
       "LONGITUDE             6.195973e+00\n",
       "LATITUDE              1.056757e+01\n",
       "POSTED_BY_Builder     1.444118e-01\n",
       "POSTED_BY_Dealer      4.858171e-01\n",
       "POSTED_BY_Owner       4.801286e-01\n",
       "dtype: float64"
      ]
     },
     "execution_count": 159,
     "metadata": {},
     "output_type": "execute_result"
    }
   ],
   "source": [
    "X.std()"
   ]
  },
  {
   "cell_type": "code",
   "execution_count": 160,
   "id": "e9d89070-8491-483f-a1fb-59865fad2af4",
   "metadata": {},
   "outputs": [
    {
     "data": {
      "text/plain": [
       "650.0557632205616"
      ]
     },
     "execution_count": 160,
     "metadata": {},
     "output_type": "execute_result"
    }
   ],
   "source": [
    "Y.std()"
   ]
  },
  {
   "cell_type": "code",
   "execution_count": 161,
   "id": "7f540023-6a9f-4a15-b738-e342ae6d3f04",
   "metadata": {},
   "outputs": [],
   "source": [
    "X['SQUARE_FT'] = scaler.fit_transform(X[['SQUARE_FT']])"
   ]
  },
  {
   "cell_type": "code",
   "execution_count": 162,
   "id": "10ad5cd9-0d80-4c9f-bea6-a7f73ced771b",
   "metadata": {},
   "outputs": [],
   "source": [
    "Y = scaler.fit_transform(Y.values.reshape(-1, 1))"
   ]
  },
  {
   "cell_type": "code",
   "execution_count": 163,
   "id": "1eeb9479-1957-491a-bdd8-71997163e588",
   "metadata": {},
   "outputs": [
    {
     "data": {
      "text/plain": [
       "UNDER_CONSTRUCTION     0.383332\n",
       "RERA                   0.464869\n",
       "BHK_NO.                0.880677\n",
       "SQUARE_FT              1.000017\n",
       "READY_TO_MOVE          0.383332\n",
       "RESALE                 0.254541\n",
       "LONGITUDE              6.195973\n",
       "LATITUDE              10.567572\n",
       "POSTED_BY_Builder      0.144412\n",
       "POSTED_BY_Dealer       0.485817\n",
       "POSTED_BY_Owner        0.480129\n",
       "dtype: float64"
      ]
     },
     "execution_count": 163,
     "metadata": {},
     "output_type": "execute_result"
    }
   ],
   "source": [
    "X.std()"
   ]
  },
  {
   "cell_type": "code",
   "execution_count": 164,
   "id": "8008f50a-f0c9-4f47-a8e9-977f2ec3ae58",
   "metadata": {},
   "outputs": [
    {
     "data": {
      "text/plain": [
       "1.0"
      ]
     },
     "execution_count": 164,
     "metadata": {},
     "output_type": "execute_result"
    }
   ],
   "source": [
    "Y.std()"
   ]
  },
  {
   "cell_type": "code",
   "execution_count": 165,
   "id": "ff9f6a29-03b5-4c72-93ad-83a02b83a3e0",
   "metadata": {},
   "outputs": [
    {
     "name": "stdout",
     "output_type": "stream",
     "text": [
      "       UNDER_CONSTRUCTION  RERA  BHK_NO.  SQUARE_FT  ...   LATITUDE  POSTED_BY_Builder  POSTED_BY_Dealer  POSTED_BY_Owner\n",
      "0                       0     0        2  -0.009785  ...  77.597960                  0                 0                1\n",
      "1                       0     0        2  -0.009798  ...  76.644605                  0                 1                0\n",
      "2                       0     0        2  -0.009976  ...  77.632191                  0                 0                1\n",
      "3                       0     1        2  -0.009978  ...  77.344500                  0                 0                1\n",
      "4                       1     0        2  -0.009942  ...  88.484911                  0                 1                0\n",
      "...                   ...   ...      ...        ...  ...        ...                ...               ...              ...\n",
      "29446                   0     0        3  -0.009158  ...  78.043277                  0                 0                1\n",
      "29447                   0     0        2  -0.010062  ... -86.150721                  0                 0                1\n",
      "29448                   0     0        2  -0.009930  ...  75.828002                  0                 1                0\n",
      "29449                   0     0        2  -0.009980  ...  80.227910                  0                 0                1\n",
      "29450                   0     1        2  -0.009995  ...  75.841749                  0                 1                0\n",
      "\n",
      "[29050 rows x 11 columns]\n",
      "[[-0.13339497]\n",
      " [-0.13954839]\n",
      " [-0.15185524]\n",
      " ...\n",
      " [-0.1763151 ]\n",
      " [-0.1149347 ]\n",
      " [-0.17523825]]\n"
     ]
    }
   ],
   "source": [
    "print(X)\n",
    "print(Y)"
   ]
  },
  {
   "cell_type": "markdown",
   "id": "727168a4-f8a3-40c1-bfae-1f7530bbebaf",
   "metadata": {},
   "source": [
    "## Test-Train Split"
   ]
  },
  {
   "cell_type": "code",
   "execution_count": 166,
   "id": "76500acc-fa11-4a19-a54a-d4c6f6309b69",
   "metadata": {},
   "outputs": [],
   "source": [
    "X_Train, X_Test, Y_Train, Y_Test = train_test_split(X, Y, test_size = 0.2)"
   ]
  },
  {
   "cell_type": "markdown",
   "id": "5a22be01-d93e-48e2-8aa1-5e03b248eb03",
   "metadata": {},
   "source": [
    "# Predictions"
   ]
  },
  {
   "cell_type": "markdown",
   "id": "2c36033e-254d-437a-aa1e-951c2153d82a",
   "metadata": {},
   "source": [
    "### USING XGBOOST"
   ]
  },
  {
   "cell_type": "code",
   "execution_count": 191,
   "id": "3d6e5b62-484f-4ab1-9235-aee08b0dc039",
   "metadata": {},
   "outputs": [
    {
     "name": "stdout",
     "output_type": "stream",
     "text": [
      "XGBoost R^2 Score on Training Dataset: 0.9646998801223465\n",
      "XGBoost R^2 Score on Testing Dataset: 0.9377099326111343\n"
     ]
    }
   ],
   "source": [
    "XG_Model = XGBRegressor(n_estimators=500, learning_rate=0.05, max_depth=4, subsample=0.9, colsample_bytree=0.4, random_state=42)\n",
    "XG_Model.fit(X_Train, Y_Train)\n",
    "XG_Train_Pred = XG_Model.predict(X_Train)\n",
    "Score_R2_XG_Training = metrics.r2_score(Y_Train, XG_Train_Pred)\n",
    "print(f\"XGBoost R^2 Score on Training Dataset: {Score_R2_XG_Training}\")\n",
    "XG_Test_Pred = XG_Model.predict(X_Test)\n",
    "Score_R2_XG_Testing = metrics.r2_score(Y_Test, XG_Test_Pred)\n",
    "print(f\"XGBoost R^2 Score on Testing Dataset: {Score_R2_XG_Testing}\")\n"
   ]
  },
  {
   "cell_type": "markdown",
   "id": "eb38b73b-5335-432c-8534-e949a2f91bec",
   "metadata": {},
   "source": [
    "### USING RANDOM FOREST"
   ]
  },
  {
   "cell_type": "code",
   "execution_count": 173,
   "id": "2bd605ad-5d16-4f5f-85cd-418717943f07",
   "metadata": {},
   "outputs": [
    {
     "name": "stdout",
     "output_type": "stream",
     "text": [
      "Random Forest Score on Training Dataset =  0.9861267957661111\n",
      "Random Forest Score on Testing Dataset =  0.9079012875674536\n"
     ]
    }
   ],
   "source": [
    "RandomForest = RandomForestRegressor()\n",
    "RandomForest.fit(X_Train, Y_Train.ravel())\n",
    "RandomForest_Training_Pred = RandomForest.predict(X_Train)\n",
    "RandomForest_Testing_Pred = RandomForest.predict(X_Test)\n",
    "RF_Training_Score = metrics.r2_score(Y_Train, RandomForest_Training_Pred)\n",
    "RF_Testing_Score = metrics.r2_score(Y_Test, RandomForest_Testing_Pred)\n",
    "print(\"Random Forest Score on Training Dataset = \", RF_Training_Score)\n",
    "print(\"Random Forest Score on Testing Dataset = \", RF_Testing_Score)"
   ]
  },
  {
   "cell_type": "markdown",
   "id": "3cc667b7-555e-49bc-95d5-3b034560d397",
   "metadata": {},
   "source": [
    "## Cross Validation"
   ]
  },
  {
   "cell_type": "code",
   "execution_count": 43,
   "id": "5b3a99bd-13dd-4f00-9f5f-07a2f4649752",
   "metadata": {},
   "outputs": [
    {
     "name": "stdout",
     "output_type": "stream",
     "text": [
      "Cross-validation scores: [0.92885461 0.96505258 0.63831817 0.96593888 0.92868738]\n"
     ]
    }
   ],
   "source": [
    "from sklearn.model_selection import cross_val_score\n",
    "rf_model = RandomForestRegressor(random_state=42)\n",
    "cv_scores = cross_val_score(rf_model, X_Train, Y_Train.ravel(), cv=5)\n",
    "print(f\"Cross-validation scores: {cv_scores}\")\n"
   ]
  },
  {
   "cell_type": "markdown",
   "id": "a5908453-66dc-4573-b80f-3661614cbd28",
   "metadata": {},
   "source": [
    "### USING ADA-BOOST"
   ]
  },
  {
   "cell_type": "code",
   "execution_count": 174,
   "id": "04115a9b-3646-4ae4-9b93-00f2a98783c7",
   "metadata": {},
   "outputs": [
    {
     "name": "stdout",
     "output_type": "stream",
     "text": [
      "AdaBoost Train R^2 Score: 0.9061297704121793\n",
      "AdaBoost Test R^2 Score: 0.9318424884157507\n"
     ]
    }
   ],
   "source": [
    "base_regressor = DecisionTreeRegressor(max_depth=2)\n",
    "ada_boost_model = AdaBoostRegressor(n_estimators=500, learning_rate=0.1, random_state=42)\n",
    "ada_boost_model.fit(X_Train, Y_Train.ravel())\n",
    "Y_train_pred = ada_boost_model.predict(X_Train)\n",
    "Y_test_pred = ada_boost_model.predict(X_Test)\n",
    "train_score = r2_score(Y_Train, Y_train_pred)\n",
    "test_score = r2_score(Y_Test, Y_test_pred)\n",
    "\n",
    "print(f\"AdaBoost Train R^2 Score: {train_score}\")\n",
    "print(f\"AdaBoost Test R^2 Score: {test_score}\")\n"
   ]
  },
  {
   "cell_type": "code",
   "execution_count": 193,
   "id": "6e162d23-75fd-458e-bdde-9d2783e8c038",
   "metadata": {},
   "outputs": [
    {
     "data": {
      "text/html": [
       "<div>\n",
       "<style scoped>\n",
       "    .dataframe tbody tr th:only-of-type {\n",
       "        vertical-align: middle;\n",
       "    }\n",
       "\n",
       "    .dataframe tbody tr th {\n",
       "        vertical-align: top;\n",
       "    }\n",
       "\n",
       "    .dataframe thead th {\n",
       "        text-align: right;\n",
       "    }\n",
       "</style>\n",
       "<table border=\"1\" class=\"dataframe\">\n",
       "  <thead>\n",
       "    <tr style=\"text-align: right;\">\n",
       "      <th></th>\n",
       "      <th>UNDER_CONSTRUCTION</th>\n",
       "      <th>RERA</th>\n",
       "      <th>BHK_NO.</th>\n",
       "      <th>SQUARE_FT</th>\n",
       "      <th>READY_TO_MOVE</th>\n",
       "      <th>RESALE</th>\n",
       "      <th>LONGITUDE</th>\n",
       "      <th>LATITUDE</th>\n",
       "      <th>POSTED_BY_Builder</th>\n",
       "      <th>POSTED_BY_Dealer</th>\n",
       "      <th>POSTED_BY_Owner</th>\n",
       "    </tr>\n",
       "  </thead>\n",
       "  <tbody>\n",
       "    <tr>\n",
       "      <th>0</th>\n",
       "      <td>0</td>\n",
       "      <td>0</td>\n",
       "      <td>2</td>\n",
       "      <td>-0.009785</td>\n",
       "      <td>1</td>\n",
       "      <td>1</td>\n",
       "      <td>12.969910</td>\n",
       "      <td>77.597960</td>\n",
       "      <td>0</td>\n",
       "      <td>0</td>\n",
       "      <td>1</td>\n",
       "    </tr>\n",
       "    <tr>\n",
       "      <th>1</th>\n",
       "      <td>0</td>\n",
       "      <td>0</td>\n",
       "      <td>2</td>\n",
       "      <td>-0.009798</td>\n",
       "      <td>1</td>\n",
       "      <td>1</td>\n",
       "      <td>12.274538</td>\n",
       "      <td>76.644605</td>\n",
       "      <td>0</td>\n",
       "      <td>1</td>\n",
       "      <td>0</td>\n",
       "    </tr>\n",
       "    <tr>\n",
       "      <th>2</th>\n",
       "      <td>0</td>\n",
       "      <td>0</td>\n",
       "      <td>2</td>\n",
       "      <td>-0.009976</td>\n",
       "      <td>1</td>\n",
       "      <td>1</td>\n",
       "      <td>12.778033</td>\n",
       "      <td>77.632191</td>\n",
       "      <td>0</td>\n",
       "      <td>0</td>\n",
       "      <td>1</td>\n",
       "    </tr>\n",
       "    <tr>\n",
       "      <th>3</th>\n",
       "      <td>0</td>\n",
       "      <td>1</td>\n",
       "      <td>2</td>\n",
       "      <td>-0.009978</td>\n",
       "      <td>1</td>\n",
       "      <td>1</td>\n",
       "      <td>28.642300</td>\n",
       "      <td>77.344500</td>\n",
       "      <td>0</td>\n",
       "      <td>0</td>\n",
       "      <td>1</td>\n",
       "    </tr>\n",
       "    <tr>\n",
       "      <th>4</th>\n",
       "      <td>1</td>\n",
       "      <td>0</td>\n",
       "      <td>2</td>\n",
       "      <td>-0.009942</td>\n",
       "      <td>0</td>\n",
       "      <td>1</td>\n",
       "      <td>22.592200</td>\n",
       "      <td>88.484911</td>\n",
       "      <td>0</td>\n",
       "      <td>1</td>\n",
       "      <td>0</td>\n",
       "    </tr>\n",
       "  </tbody>\n",
       "</table>\n",
       "</div>"
      ],
      "text/plain": [
       "   UNDER_CONSTRUCTION  RERA  BHK_NO.  SQUARE_FT  ...   LATITUDE  POSTED_BY_Builder  POSTED_BY_Dealer  POSTED_BY_Owner\n",
       "0                   0     0        2  -0.009785  ...  77.597960                  0                 0                1\n",
       "1                   0     0        2  -0.009798  ...  76.644605                  0                 1                0\n",
       "2                   0     0        2  -0.009976  ...  77.632191                  0                 0                1\n",
       "3                   0     1        2  -0.009978  ...  77.344500                  0                 0                1\n",
       "4                   1     0        2  -0.009942  ...  88.484911                  0                 1                0\n",
       "\n",
       "[5 rows x 11 columns]"
      ]
     },
     "execution_count": 193,
     "metadata": {},
     "output_type": "execute_result"
    }
   ],
   "source": [
    "X.head()"
   ]
  },
  {
   "cell_type": "code",
   "execution_count": 194,
   "id": "9fc288aa-44af-4be4-a080-9c47ab53ab86",
   "metadata": {},
   "outputs": [
    {
     "data": {
      "text/plain": [
       "array([[-0.13339497],\n",
       "       [-0.13954839],\n",
       "       [-0.15185524],\n",
       "       ...,\n",
       "       [-0.1763151 ],\n",
       "       [-0.1149347 ],\n",
       "       [-0.17523825]])"
      ]
     },
     "execution_count": 194,
     "metadata": {},
     "output_type": "execute_result"
    }
   ],
   "source": [
    "Y"
   ]
  },
  {
   "cell_type": "markdown",
   "id": "e2d34cdc-53d2-4186-99e0-b6e62f317221",
   "metadata": {},
   "source": [
    "### Instance Check"
   ]
  },
  {
   "cell_type": "code",
   "execution_count": 195,
   "id": "ba504a96-19c4-4b2d-be03-48303a2a4152",
   "metadata": {},
   "outputs": [
    {
     "name": "stdout",
     "output_type": "stream",
     "text": [
      "[[53.917046]]\n"
     ]
    }
   ],
   "source": [
    "instance = [[0,\t0,\t2,\t-0.009785,\t1,\t1,\t12.274538,\t76.644605,\t0,\t0,\t1]]\n",
    "instance = np.array(instance)\n",
    "pred  = XG_Model.predict(instance)\n",
    "pred = np.array(pred).reshape(-1, 1)\n",
    "final_pred = scaler.inverse_transform(pred)\n",
    "print(final_pred)"
   ]
  },
  {
   "cell_type": "code",
   "execution_count": null,
   "id": "6303b672-14c2-44a6-9b19-b4cb0bf12b73",
   "metadata": {},
   "outputs": [],
   "source": []
  }
 ],
 "metadata": {
  "kernelspec": {
   "display_name": "Python 3 (ipykernel)",
   "language": "python",
   "name": "python3"
  },
  "language_info": {
   "codemirror_mode": {
    "name": "ipython",
    "version": 3
   },
   "file_extension": ".py",
   "mimetype": "text/x-python",
   "name": "python",
   "nbconvert_exporter": "python",
   "pygments_lexer": "ipython3",
   "version": "3.9.12"
  }
 },
 "nbformat": 4,
 "nbformat_minor": 5
}
